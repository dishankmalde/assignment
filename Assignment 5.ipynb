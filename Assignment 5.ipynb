{
 "cells": [
  {
   "cell_type": "code",
   "execution_count": 32,
   "id": "e45b50be",
   "metadata": {},
   "outputs": [
    {
     "name": "stdout",
     "output_type": "stream",
     "text": [
      "Exception\n",
      "division by zero\n"
     ]
    }
   ],
   "source": [
    "def division(dividend, divisor):\n",
    "    try:\n",
    "        answer = dividend / divisor\n",
    "        return answer\n",
    "    except Exception as error:\n",
    "        print(\"Exception\")\n",
    "        print(error)\n",
    "        \n",
    "division(5, 0)"
   ]
  },
  {
   "cell_type": "code",
   "execution_count": 21,
   "id": "3481f5a5",
   "metadata": {},
   "outputs": [
    {
     "name": "stdout",
     "output_type": "stream",
     "text": [
      "Americans play Baseball.\n",
      "Americans play Cricket.\n",
      "Americans watch Baseball.\n",
      "Americans watch Cricket.\n",
      "Indians play Baseball.\n",
      "Indians play Cricket.\n",
      "Indians watch Baseball.\n",
      "Indians watch Cricket.\n"
     ]
    }
   ],
   "source": [
    "subjects=[\"Americans\",\"Indians\"]\n",
    "verbs=[\"play\",\"watch\"]\n",
    "objects=[\"Baseball\",\"Cricket\"]\n",
    "\n",
    "def make_sentences(subjects, verbs, objects):\n",
    "    list_of_sentences = [ subject + \" \" + verb + \" \" + object + \".\" \n",
    "                          for subject in subjects\n",
    "                          for verb    in verbs\n",
    "                          for object  in objects]\n",
    "    for sentence in list_of_sentences:\n",
    "        print(sentence)\n",
    "        \n",
    "make_sentences(subjects, verbs, objects)        "
   ]
  }
 ],
 "metadata": {
  "kernelspec": {
   "display_name": "Python 3",
   "language": "python",
   "name": "python3"
  },
  "language_info": {
   "codemirror_mode": {
    "name": "ipython",
    "version": 3
   },
   "file_extension": ".py",
   "mimetype": "text/x-python",
   "name": "python",
   "nbconvert_exporter": "python",
   "pygments_lexer": "ipython3",
   "version": "3.8.8"
  }
 },
 "nbformat": 4,
 "nbformat_minor": 5
}
