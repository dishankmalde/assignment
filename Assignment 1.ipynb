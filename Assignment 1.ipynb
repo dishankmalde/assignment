{
 "cells": [
  {
   "cell_type": "code",
   "execution_count": null,
   "id": "e790949c",
   "metadata": {},
   "outputs": [],
   "source": [
    "#Assignment 1, Q1\n",
    "\n",
    "def get_numbers( num1, num2 ):\n",
    "    print(\"The numbers between 2000 and 3200 divisible by {} and not a multiple of {} are: \".format(num2,num1))\n",
    "    i = 2000\n",
    "    while i <= 3200:\n",
    "        if i % num2 == 0 and i % num1 != 0:\n",
    "            print( i, end = \", \")\n",
    "            \n",
    "        i += 1\n",
    "        \n",
    "get_numbers(5, 7)"
   ]
  },
  {
   "cell_type": "code",
   "execution_count": null,
   "id": "881c6caa",
   "metadata": {},
   "outputs": [],
   "source": [
    "#Assignment 1, Q2\n",
    "\n",
    "firstName = input(\"Enter your First Name: \")\n",
    "lastName  = input(\"Enter your Last Name: \")\n",
    "\n",
    "print(lastName, firstName, sep = \" \")"
   ]
  },
  {
   "cell_type": "code",
   "execution_count": null,
   "id": "806bdbe5",
   "metadata": {},
   "outputs": [],
   "source": [
    "#Assignment 1, Q3\n",
    "import math\n",
    "\n",
    "def Volume(radius):\n",
    "    volume = (4 * math.pi * radius ** 3) / 3\n",
    "    print(\"The volume of sphere with diameter {} cm is:\".format(radius) , volume)\n",
    "    \n",
    "Volume(12)    "
   ]
  }
 ],
 "metadata": {
  "kernelspec": {
   "display_name": "Python 3",
   "language": "python",
   "name": "python3"
  },
  "language_info": {
   "codemirror_mode": {
    "name": "ipython",
    "version": 3
   },
   "file_extension": ".py",
   "mimetype": "text/x-python",
   "name": "python",
   "nbconvert_exporter": "python",
   "pygments_lexer": "ipython3",
   "version": "3.8.8"
  }
 },
 "nbformat": 4,
 "nbformat_minor": 5
}
